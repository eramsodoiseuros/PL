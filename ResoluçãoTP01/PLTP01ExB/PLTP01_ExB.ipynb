{
 "cells": [
  {
   "cell_type": "code",
   "execution_count": 1,
   "metadata": {},
   "outputs": [],
   "source": [
    "import re\n",
    "import os"
   ]
  },
  {
   "cell_type": "code",
   "execution_count": 2,
   "metadata": {
    "scrolled": true
   },
   "outputs": [],
   "source": [
    "## Teste de Leitura\n",
    "#with open('inscritos-form.json', 'r') as myfile:\n",
    "   #data = myfile.read()\n",
    "#print(data)\n",
    "#myfile.close()\n",
    "\n",
    "\n",
    "# problema do backslash na cria~ão de ir"
   ]
  },
  {
   "cell_type": "code",
   "execution_count": 3,
   "metadata": {},
   "outputs": [],
   "source": [
    "def trataJson(jfile):\n",
    "    with open(jfile, 'r') as myfile:\n",
    "        data = myfile.read()\n",
    "    content = data\n",
    "    fatl=re.sub(r'\\n',' ',data)      \n",
    "    fatl=re.sub(r'[^i]*inscritos\\\"\\:\\[','',fatl)\n",
    "    fatl=re.sub(r'}    ] }','',fatl)       \n",
    "    dataA=re.split(r'},{', fatl)\n",
    "    for i in range(len(dataA)):\n",
    "        dataA[i]=re.split(r'\\\"\\,\\s*\\\"', dataA[i])\n",
    "        for j in range(len(dataA[i])):\n",
    "            cena=re.split(r'\\\"\\:\\\"', dataA[i][j])\n",
    "            if(len(cena)>1):\n",
    "                dataA[i][j]= cena[1]\n",
    "            else:\n",
    "                dataA[i][j]= \"NaN\"     \n",
    "        dataA[i][6]=re.sub(r'\\\"','',dataA[i][6])     # problema do ultimo jogador ter \" no fim da equipa\n",
    "        dataA[i][6]=re.sub(r'\\/','',dataA[i][6])    # problema do backslash na cria~ão de ir\n",
    "        dataA[i][6]=re.sub(r'\\s+$','',dataA[i][6])\n",
    "    myfile.close()\n",
    "    return dataA\n"
   ]
  },
  {
   "cell_type": "code",
   "execution_count": 4,
   "metadata": {},
   "outputs": [],
   "source": [
    "def getdataLine(linha):\n",
    "    name = re.search(r'([^\"]*)',linha[0])\n",
    "    dataNasc = re.search(r'([^\"]*)',linha[1])\n",
    "    morada = re.search(r'([^\"]*)',linha[2])\n",
    "    email = re.search(r'([^\"]*)',linha[3])\n",
    "    prova = re.search(r'([^\"]*)',linha[4])\n",
    "    escalao = re.search(r'([^\"]*)',linha[5])\n",
    "    equipa = re.search(r'([^\"]*)',linha[6])\n",
    "    \n",
    "    return name, dataNasc, morada, email,prova,escalao,equipa\n",
    "    "
   ]
  },
  {
   "cell_type": "code",
   "execution_count": 5,
   "metadata": {},
   "outputs": [],
   "source": [
    "def showMeDist(dataSplited):\n",
    "    print(0,\"- nome -\",dataSplited[1][0])\n",
    "    print(1,\"- dataNasc -\",dataSplited[1][1])\n",
    "    print(2,\"- morada -\",dataSplited[1][2])\n",
    "    print(3,\"- email -\",dataSplited[1][3])\n",
    "    print(4,\"- prova -\",dataSplited[1][4])\n",
    "    print(5,\"- escalao -\",dataSplited[1][5])\n",
    "    print(6,\"- equipa -\",dataSplited[1][6])\n",
    "    \n",
    "\n"
   ]
  },
  {
   "cell_type": "markdown",
   "metadata": {},
   "source": [
    "# Processador de Inscritos numa atividade Desportiva"
   ]
  },
  {
   "cell_type": "markdown",
   "metadata": {},
   "source": [
    "Neste exercício pretende-se trabalhar com um arquivo desportivo criado por um Organizador de Provas de Orientação realizadas em diferentes locais e para diferentes graus de dificuldade adaptadas a diferentes classes de participantes."
   ]
  },
  {
   "cell_type": "markdown",
   "metadata": {},
   "source": [
    "Construa, então, um ou vários programas Python para processar o ficheiro de texto 'inscritos.json' anexo1 conforme solicitado nas alíneas seguintes:\n",
    "\n",
    "\n",
    "    a) imprimir o nome (convertido para maiúsculas) de todos os concorrentes que se inscrevem como 'Individuais' e são de 'Valongo'.\n",
    "    b) imprimir o nome completo, o telemóvel e a prova em que está inscrito cada concorrente cujo nome seja 'Paulo' ou 'Ricardo', desde que seja da Vodafone.\n",
    "    c) imprimir toda a informação dos atletas da equipe \"TURBULENTOS\".\n",
    "    d) imprimir a lista dos escalões por ordem alfabética e para cada um indicar quantos atletas estão inscritos nesse escalão.\n",
    "    e) gerar uma página HTML com a lista das equipes inscritas em qualquer prova, indicando o seu nome e o número dos atletas que a constituem e que se inscreveram pelo menos uma vez numa prova; essa lista deve estar ordenada por ordem decrescente do número de atletas; além disso, cada equipe deve ter um link para outra página HTML com a informação que achar interessante sobre cada atleta indicando as provas em que cada um participou."
   ]
  },
  {
   "cell_type": "markdown",
   "metadata": {},
   "source": [
    "b) imprimir o nome completo, o telemóvel e a prova em que está inscrito cada concorrente cujo nome\n",
    "seja 'Paulo' ou 'Ricardo', desde que usem o GMail.\n"
   ]
  },
  {
   "cell_type": "code",
   "execution_count": 29,
   "metadata": {},
   "outputs": [
    {
     "name": "stdout",
     "output_type": "stream",
     "text": [
      "0 - nome - Francisco Neto Silva\n",
      "1 - dataNasc - 22/04/89\n",
      "2 - morada - Rua da Ermida, 235\n",
      "3 - email - netosilva.francisco@gmail.com\n",
      "4 - prova - Corrida da Geira\n",
      "5 - escalao - SENIOR Masc\n",
      "6 - equipa - individual\n"
     ]
    }
   ],
   "source": [
    "dataSplited=trataJson('inscritos-form.json')\n",
    "showMeDist(dataSplited)"
   ]
  },
  {
   "cell_type": "code",
   "execution_count": 30,
   "metadata": {},
   "outputs": [
    {
     "name": "stdout",
     "output_type": "stream",
     "text": [
      "Dados de Utilizador:\n",
      "Nome: PAULO DE CASTRO ROCHA\n",
      "Email: pcastrorocha@gmail.com\n",
      "Prova: Ultra Trail\n",
      "\n",
      "\n",
      "Dados de Utilizador:\n",
      "Nome: J PAULO MARQUES\n",
      "Email: pmarques269@gmail.com\n",
      "Prova: Ultra Trail\n",
      "\n",
      "\n",
      "Dados de Utilizador:\n",
      "Nome: PAULO SERRA\n",
      "Email: paulo.serra@gmail.com\n",
      "Prova: Ultra Trail\n",
      "\n",
      "\n",
      "Dados de Utilizador:\n",
      "Nome: PAULO VILAÇA\n",
      "Email: pmv777@gmail.com\n",
      "Prova: Ultra Trail\n",
      "\n",
      "\n",
      "Dados de Utilizador:\n",
      "Nome: PAULO DOMINGUES\n",
      "Email: p.j.p.domingues@gmail.com\n",
      "Prova: Ultra Trail\n",
      "\n",
      "\n",
      "Dados de Utilizador:\n",
      "Nome: RICARDO JORGE DIAS OLIVEIRA\n",
      "Email: Ricardo.transportesabranco@gmail.com\n",
      "Prova: Ultra Trail\n",
      "\n",
      "\n",
      "Dados de Utilizador:\n",
      "Nome: RICARDO REIS\n",
      "Email: ricardoreiis@gmail.com\n",
      "Prova: Ultra Trail\n",
      "\n",
      "\n",
      "Dados de Utilizador:\n",
      "Nome: PAULO FÉLIX\n",
      "Email: pauloalexteixeirafelix@gmail.com\n",
      "Prova: Ultra Trail\n",
      "\n",
      "\n",
      "Dados de Utilizador:\n",
      "Nome: JOÃO RICARDO TAVARES NEVES\n",
      "Email: rwichers4@gmail.com\n",
      "Prova: Ultra Trail\n",
      "\n",
      "\n",
      "Dados de Utilizador:\n",
      "Nome: RICARDO SOUSA\n",
      "Email: jose.ricardo.sousa@gmail.com\n",
      "Prova: Corrida da Geira\n",
      "\n",
      "\n",
      "Dados de Utilizador:\n",
      "Nome: RICARDO JORGE DIAS OLIVEIRA\n",
      "Email: helderfva@gmail.com\n",
      "Prova: Ultra Trail\n",
      "\n",
      "\n",
      "Dados de Utilizador:\n",
      "Nome: RICARDO COUTO\n",
      "Email: rjcouto@gmail.com\n",
      "Prova: Ultra Trail\n",
      "\n",
      "\n",
      "Dados de Utilizador:\n",
      "Nome: RICARDO ERNESTO DOS SANTOS GERALDES DOMINGUES\n",
      "Email: santosgeraldes@gmail.com\n",
      "Prova: Corrida da Geira\n",
      "\n",
      "\n"
     ]
    }
   ],
   "source": [
    "\n",
    "for linha in dataSplited:\n",
    "    paulo =re.search(r'(?i:Paulo)',linha[0]) \n",
    "    ricardo =re.search(r'(?i:Ricardo)',linha[0])\n",
    "    if((paulo or ricardo)):\n",
    "        gmail = re.search(r'(?i:@gmail)',linha[3])\n",
    "    \n",
    "        if( gmail): \n",
    "            f = open('PLTP01_exB.txt', \"a\")\n",
    "            name, dataNasc, morada, email,prova,escalao,equipa= getdataLine(linha)\n",
    "            resp='Dados de Utilizador:'+'\\n'+ 'Nome: '+name[1].upper()+'\\n'+'Email: '+email[1]+'\\n'+'Prova: '+prova[1]+'\\n'+'\\n'\n",
    "            print(resp)\n",
    "            f.write(resp)\n",
    "            f.close()\n",
    "   "
   ]
  }
 ],
 "metadata": {
  "kernelspec": {
   "display_name": "Python 3",
   "language": "python",
   "name": "python3"
  },
  "language_info": {
   "codemirror_mode": {
    "name": "ipython",
    "version": 3
   },
   "file_extension": ".py",
   "mimetype": "text/x-python",
   "name": "python",
   "nbconvert_exporter": "python",
   "pygments_lexer": "ipython3",
   "version": "3.8.3"
  }
 },
 "nbformat": 4,
 "nbformat_minor": 4
}
