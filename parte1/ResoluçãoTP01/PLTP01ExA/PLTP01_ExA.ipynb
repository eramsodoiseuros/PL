{
 "cells": [
  {
   "cell_type": "code",
   "execution_count": 1,
   "metadata": {},
   "outputs": [],
   "source": [
    "import re\n",
    "import os"
   ]
  },
  {
   "cell_type": "code",
   "execution_count": 2,
   "metadata": {
    "scrolled": true
   },
   "outputs": [],
   "source": [
    "## Teste de Leitura\n",
    "#with open('inscritos-form.json', 'r') as myfile:\n",
    "   #data = myfile.read()\n",
    "#print(data)\n",
    "#myfile.close()\n",
    "\n",
    "\n",
    "# problema do backslash na cria~ão de ir"
   ]
  },
  {
   "cell_type": "code",
   "execution_count": 3,
   "metadata": {},
   "outputs": [],
   "source": [
    "def trataJson(jfile):\n",
    "    with open(jfile, 'r') as myfile:\n",
    "        data = myfile.read()\n",
    "    content = data\n",
    "    fatl=re.sub(r'\\n',' ',data)      \n",
    "    fatl=re.sub(r'[^i]*inscritos\\\"\\:\\[','',fatl)\n",
    "    fatl=re.sub(r'}    ] }','',fatl)       \n",
    "    dataA=re.split(r'},{', fatl)\n",
    "    for i in range(len(dataA)):\n",
    "        dataA[i]=re.split(r'\\\"\\,\\s*\\\"', dataA[i])\n",
    "        for j in range(len(dataA[i])):\n",
    "            cena=re.split(r'\\\"\\:\\\"', dataA[i][j])\n",
    "            if(len(cena)>1):\n",
    "                dataA[i][j]= cena[1]\n",
    "            else:\n",
    "                dataA[i][j]= \"NaN\"     \n",
    "        dataA[i][6]=re.sub(r'\\\"','',dataA[i][6])     # problema do ultimo jogador ter \" no fim da equipa\n",
    "        dataA[i][6]=re.sub(r'\\/','',dataA[i][6])    # problema do backslash na cria~ão de ir\n",
    "        dataA[i][6]=re.sub(r'\\s+$','',dataA[i][6])\n",
    "    myfile.close()\n",
    "    return dataA\n"
   ]
  },
  {
   "cell_type": "code",
   "execution_count": 4,
   "metadata": {},
   "outputs": [],
   "source": [
    "def getdataLine(linha):\n",
    "    name = re.search(r'([^\"]*)',linha[0])\n",
    "    dataNasc = re.search(r'([^\"]*)',linha[1])\n",
    "    morada = re.search(r'([^\"]*)',linha[2])\n",
    "    email = re.search(r'([^\"]*)',linha[3])\n",
    "    prova = re.search(r'([^\"]*)',linha[4])\n",
    "    escalao = re.search(r'([^\"]*)',linha[5])\n",
    "    equipa = re.search(r'([^\"]*)',linha[6])\n",
    "    \n",
    "    return name, dataNasc, morada, email,prova,escalao,equipa\n",
    "    "
   ]
  },
  {
   "cell_type": "code",
   "execution_count": 5,
   "metadata": {},
   "outputs": [],
   "source": [
    "def showMeDist(dataSplited):\n",
    "    print(0,\"- nome -\",dataSplited[1][0])\n",
    "    print(1,\"- dataNasc -\",dataSplited[1][1])\n",
    "    print(2,\"- morada -\",dataSplited[1][2])\n",
    "    print(3,\"- email -\",dataSplited[1][3])\n",
    "    print(4,\"- prova -\",dataSplited[1][4])\n",
    "    print(5,\"- escalao -\",dataSplited[1][5])\n",
    "    print(6,\"- equipa -\",dataSplited[1][6])\n",
    "    \n",
    "\n"
   ]
  },
  {
   "cell_type": "markdown",
   "metadata": {},
   "source": [
    "# Processador de Inscritos numa atividade Desportiva"
   ]
  },
  {
   "cell_type": "markdown",
   "metadata": {},
   "source": [
    "Neste exercício pretende-se trabalhar com um arquivo desportivo criado por um Organizador de Provas de Orientação realizadas em diferentes locais e para diferentes graus de dificuldade adaptadas a diferentes classes de participantes."
   ]
  },
  {
   "cell_type": "markdown",
   "metadata": {},
   "source": [
    "Construa, então, um ou vários programas Python para processar o ficheiro de texto 'inscritos.json' anexo1 conforme solicitado nas alíneas seguintes:\n",
    "\n",
    "\n",
    "    a) imprimir o nome (convertido para maiúsculas) de todos os concorrentes que se inscrevem como 'Individuais' e são de 'Valongo'.\n",
    "    b) imprimir o nome completo, o telemóvel e a prova em que está inscrito cada concorrente cujo nome seja 'Paulo' ou 'Ricardo', desde que seja da Vodafone.\n",
    "    c) imprimir toda a informação dos atletas da equipe \"TURBULENTOS\".\n",
    "    d) imprimir a lista dos escalões por ordem alfabética e para cada um indicar quantos atletas estão inscritos nesse escalão.\n",
    "    e) gerar uma página HTML com a lista das equipes inscritas em qualquer prova, indicando o seu nome e o número dos atletas que a constituem e que se inscreveram pelo menos uma vez numa prova; essa lista deve estar ordenada por ordem decrescente do número de atletas; além disso, cada equipe deve ter um link para outra página HTML com a informação que achar interessante sobre cada atleta indicando as provas em que cada um participou."
   ]
  },
  {
   "cell_type": "markdown",
   "metadata": {},
   "source": [
    "a) imprimir o nome (convertido para maiúsculas) de todos os concorrentes que se inscrevem como 'Individuais' e são de 'Valongo'."
   ]
  },
  {
   "cell_type": "code",
   "execution_count": 6,
   "metadata": {},
   "outputs": [
    {
     "name": "stdout",
     "output_type": "stream",
     "text": [
      "0 - nome - Francisco Neto Silva\n",
      "1 - dataNasc - 22/04/89\n",
      "2 - morada - Rua da Ermida, 235\n",
      "3 - email - netosilva.francisco@gmail.com\n",
      "4 - prova - Corrida da Geira\n",
      "5 - escalao - SENIOR Masc\n",
      "6 - equipa - individual\n"
     ]
    }
   ],
   "source": [
    "dataSplited=trataJson('inscritos-form.json')\n",
    "showMeDist(dataSplited)"
   ]
  },
  {
   "cell_type": "code",
   "execution_count": 19,
   "metadata": {
    "scrolled": false
   },
   "outputs": [
    {
     "name": "stdout",
     "output_type": "stream",
     "text": [
      "Nome de Inscrito:  VERA CRISTINA MOREIRA DELGADO \n",
      "\n",
      "Nome de Inscrito:  PAULO DOMINGUES \n",
      "\n",
      "Nome de Inscrito:  DULCE MOREDA \n",
      "\n"
     ]
    }
   ],
   "source": [
    "for linha in dataSplited:\n",
    "    morada =re.search(r'(?i:Valongo)',linha[2])\n",
    "    if(morada):\n",
    "        individual = re.search(r'(?i:Individual)',linha[6])\n",
    "    \n",
    "        if(individual): \n",
    "            name, dataNasc, moradaS, email,prova,escalao,equipa= getdataLine(linha)\n",
    "            print('Nome de Inscrito: ',name[1].upper(),'\\n' )\n",
    "            f = open('PLTP01_exA.txt', \"a\")\n",
    "            f.write('''Resposta:\n",
    "            ''')\n",
    "            f.write('''Nome de Inscrito: \n",
    "            ''')\n",
    "            f.write(name[1].upper())\n",
    "            f.write('\\n')\n",
    "            f.close()\n",
    "   "
   ]
  }
 ],
 "metadata": {
  "kernelspec": {
   "display_name": "Python 3",
   "language": "python",
   "name": "python3"
  },
  "language_info": {
   "codemirror_mode": {
    "name": "ipython",
    "version": 3
   },
   "file_extension": ".py",
   "mimetype": "text/x-python",
   "name": "python",
   "nbconvert_exporter": "python",
   "pygments_lexer": "ipython3",
   "version": "3.8.3"
  }
 },
 "nbformat": 4,
 "nbformat_minor": 4
}
